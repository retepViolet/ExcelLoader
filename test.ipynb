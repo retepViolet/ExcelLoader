{
 "cells": [
  {
   "cell_type": "code",
   "execution_count": 1,
   "metadata": {},
   "outputs": [],
   "source": [
    "import requests, json\n",
    "url = 'http://127.0.0.1:8000/'"
   ]
  },
  {
   "cell_type": "code",
   "execution_count": 19,
   "metadata": {},
   "outputs": [
    {
     "name": "stdout",
     "output_type": "stream",
     "text": [
      "{'file name': '输出.xlsx', 'version': 1}\n"
     ]
    }
   ],
   "source": [
    "data = {\n",
    "    'fpath': 'C:\\\\Users\\\\fudan\\\\Desktop\\\\excel loader\\\\src\\\\输出.xlsx',\n",
    "}\n",
    "response = requests.post(url+'upload', params=data)\n",
    "print(response.json())"
   ]
  },
  {
   "cell_type": "code",
   "execution_count": 27,
   "metadata": {},
   "outputs": [
    {
     "name": "stdout",
     "output_type": "stream",
     "text": [
      "{'光伏': {'分布式光伏电站项目EMC模式收效益分享预期表': {'年度': {'sheet': 'Sheet1', 'cell': 'B8'}, '发电量(万度)': {'sheet': 'Sheet1', 'cell': 'C8:C20,G8:G19'}}}}\n"
     ]
    }
   ],
   "source": [
    "CELL_ID1 = {\n",
    "    'sheet': 'Sheet1', \n",
    "    'cell': 'B8', \n",
    "}\n",
    "\n",
    "CELL_ID2 = {\n",
    "    'sheet': 'Sheet1', \n",
    "    'cell': 'C8:C20,G8:G19', \n",
    "}\n",
    "\n",
    "output_json= {\n",
    "    '光伏':{\n",
    "            '分布式光伏电站项目EMC模式收效益分享预期表':{\n",
    "                '年度':CELL_ID1,\n",
    "                '发电量(万度)':CELL_ID2\n",
    "            },\n",
    "        } \n",
    "    }\n",
    "a = output_json['光伏']\n",
    "a = 0\n",
    "print(output_json)"
   ]
  },
  {
   "cell_type": "code",
   "execution_count": 28,
   "metadata": {},
   "outputs": [
    {
     "name": "stdout",
     "output_type": "stream",
     "text": [
      "{'光伏': {'分布式光伏电站项目EMC模式收效益分享预期表': {'年度': 1, '发电量(万度)': [132.579018, 130.7041632, 129.6328176, 128.561472, 127.4901264, 126.4187808, 125.3474352, 124.2760896, 123.204744, 122.1333984, 121.0620528, 119.9907072, 118.9193616, 117.848016, 116.7766704, 115.7053248, 114.6339792, 113.5626336, 112.491288, 111.4199424, 110.3485968, 109.2772512, 108.2059056, 107.13456, 106.0632144]}}}\n"
     ]
    }
   ],
   "source": [
    "data = {\n",
    "    'file_name': '输出.xlsx',\n",
    "\n",
    "    'input_cell': json.dumps([{\n",
    "                    'sheet': 'Sheet1',\n",
    "                    'cell': 'B2',\n",
    "                    'value': 1\n",
    "                }]),\n",
    "    'output_cell': json.dumps([CELL_ID1, CELL_ID2]),\n",
    "    'output_excel': 'C:\\\\Users\\\\fudan\\\\Desktop\\\\excel loader\\\\src\\\\api\\\\history',\n",
    "    'output_docx': json.dumps({\n",
    "        'input_path': 'test.docx',\n",
    "        'output_path': 'output.docx'\n",
    "    }),\n",
    "    'output_json':json.dumps(output_json)\n",
    "}\n",
    "response = requests.post(url+'calculate', params=data)\n",
    "print(response.json())"
   ]
  },
  {
   "cell_type": "code",
   "execution_count": 6,
   "metadata": {},
   "outputs": [
    {
     "name": "stdout",
     "output_type": "stream",
     "text": [
      "[{'id': 1, 'file': None, 'file_id': 1, 'intput': '[{\"sheet\": \"\\\\u5206\\\\u5e03\\\\u5f0f\\\\u50a8\\\\u80fd\\\\u9879\\\\u76ee\\\\u7684\\\\u6536\\\\u76ca\\\\u8ba1\\\\u7b97\\\\u8868\", \"cell\": \"B2\", \"value\": \"1\"}]', 'output': '[{\"sheet\": \"\\\\u5206\\\\u5e03\\\\u5f0f\\\\u50a8\\\\u80fd\\\\u9879\\\\u76ee\\\\u7684\\\\u6536\\\\u76ca\\\\u8ba1\\\\u7b97\\\\u8868\", \"cell\": \"B36\"}]'}, {'id': 2, 'file': None, 'file_id': 1, 'intput': '[{\"sheet\": \"\\\\u5206\\\\u5e03\\\\u5f0f\\\\u50a8\\\\u80fd\\\\u9879\\\\u76ee\\\\u7684\\\\u6536\\\\u76ca\\\\u8ba1\\\\u7b97\\\\u8868\", \"cell\": \"B2\", \"value\": 1}]', 'output': '[{\"sheet\": \"\\\\u5206\\\\u5e03\\\\u5f0f\\\\u50a8\\\\u80fd\\\\u9879\\\\u76ee\\\\u7684\\\\u6536\\\\u76ca\\\\u8ba1\\\\u7b97\\\\u8868\", \"cell\": \"B36\"}]'}, {'id': 3, 'file': None, 'file_id': 1, 'intput': '[{\"sheet\": \"\\\\u5206\\\\u5e03\\\\u5f0f\\\\u50a8\\\\u80fd\\\\u9879\\\\u76ee\\\\u7684\\\\u6536\\\\u76ca\\\\u8ba1\\\\u7b97\\\\u8868\", \"cell\": \"B2\", \"value\": 1}]', 'output': '[{\"sheet\": \"\\\\u5206\\\\u5e03\\\\u5f0f\\\\u50a8\\\\u80fd\\\\u9879\\\\u76ee\\\\u7684\\\\u6536\\\\u76ca\\\\u8ba1\\\\u7b97\\\\u8868\", \"cell\": \"B36\"}]'}, {'id': 4, 'file': None, 'file_id': 1, 'intput': '[{\"sheet\": \"\\\\u5206\\\\u5e03\\\\u5f0f\\\\u50a8\\\\u80fd\\\\u9879\\\\u76ee\\\\u7684\\\\u6536\\\\u76ca\\\\u8ba1\\\\u7b97\\\\u8868\", \"cell\": \"B2\", \"value\": 1}]', 'output': '[{\"sheet\": \"\\\\u5206\\\\u5e03\\\\u5f0f\\\\u50a8\\\\u80fd\\\\u9879\\\\u76ee\\\\u7684\\\\u6536\\\\u76ca\\\\u8ba1\\\\u7b97\\\\u8868\", \"cell\": \"B36\"}]'}, {'id': 5, 'file': None, 'file_id': 1, 'intput': '[{\"sheet\": \"\\\\u5206\\\\u5e03\\\\u5f0f\\\\u50a8\\\\u80fd\\\\u9879\\\\u76ee\\\\u7684\\\\u6536\\\\u76ca\\\\u8ba1\\\\u7b97\\\\u8868\", \"cell\": \"B2\", \"value\": 1}]', 'output': '[{\"sheet\": \"\\\\u5206\\\\u5e03\\\\u5f0f\\\\u50a8\\\\u80fd\\\\u9879\\\\u76ee\\\\u7684\\\\u6536\\\\u76ca\\\\u8ba1\\\\u7b97\\\\u8868\", \"cell\": \"B36\"}]'}, {'id': 6, 'file': None, 'file_id': 1, 'intput': '[{\"sheet\": \"\\\\u5206\\\\u5e03\\\\u5f0f\\\\u50a8\\\\u80fd\\\\u9879\\\\u76ee\\\\u7684\\\\u6536\\\\u76ca\\\\u8ba1\\\\u7b97\\\\u8868\", \"cell\": \"B2\", \"value\": 1}]', 'output': '[{\"sheet\": \"\\\\u5206\\\\u5e03\\\\u5f0f\\\\u50a8\\\\u80fd\\\\u9879\\\\u76ee\\\\u7684\\\\u6536\\\\u76ca\\\\u8ba1\\\\u7b97\\\\u8868\", \"cell\": \"B36\"}]'}, {'id': 7, 'file': None, 'file_id': 1, 'intput': '[{\"sheet\": \"\\\\u5206\\\\u5e03\\\\u5f0f\\\\u50a8\\\\u80fd\\\\u9879\\\\u76ee\\\\u7684\\\\u6536\\\\u76ca\\\\u8ba1\\\\u7b97\\\\u8868\", \"cell\": \"B2\", \"value\": 1}]', 'output': '[{\"sheet\": \"\\\\u5206\\\\u5e03\\\\u5f0f\\\\u50a8\\\\u80fd\\\\u9879\\\\u76ee\\\\u7684\\\\u6536\\\\u76ca\\\\u8ba1\\\\u7b97\\\\u8868\", \"cell\": \"B36\"}]'}]\n"
     ]
    }
   ],
   "source": [
    "data = {\n",
    "    'file_name': '计算书.xlsx',\n",
    "}\n",
    "response = requests.get(url+'history', params=data)\n",
    "print(response.json())"
   ]
  },
  {
   "cell_type": "code",
   "execution_count": 7,
   "metadata": {},
   "outputs": [
    {
     "name": "stdout",
     "output_type": "stream",
     "text": [
      "[{'id': 1, 'name': '计算书.xlsx', 'version': 1, 'model': None, 'history': None}, {'id': 2, 'name': '计算书.xlsx', 'version': 2, 'model': None, 'history': None}, {'id': 3, 'name': '计算书.xlsx', 'version': 3, 'model': None, 'history': None}, {'id': 4, 'name': '计算书.xlsx', 'version': 4, 'model': None, 'history': None}, {'id': 5, 'name': '计算书.xlsx', 'version': 5, 'model': None, 'history': None}, {'id': 6, 'name': '计算书.xlsx', 'version': 6, 'model': None, 'history': None}, {'id': 7, 'name': '计算书.xlsx', 'version': 7, 'model': None, 'history': None}]\n"
     ]
    }
   ],
   "source": [
    "response = requests.get(url+'file_list')\n",
    "print(response.json())"
   ]
  }
 ],
 "metadata": {
  "kernelspec": {
   "display_name": "Python 3",
   "language": "python",
   "name": "python3"
  },
  "language_info": {
   "codemirror_mode": {
    "name": "ipython",
    "version": 3
   },
   "file_extension": ".py",
   "mimetype": "text/x-python",
   "name": "python",
   "nbconvert_exporter": "python",
   "pygments_lexer": "ipython3",
   "version": "3.11.1"
  }
 },
 "nbformat": 4,
 "nbformat_minor": 2
}
